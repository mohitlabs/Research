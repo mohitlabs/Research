{
 "cells": [
  {
   "cell_type": "markdown",
   "metadata": {},
   "source": [
    "# Importing Packages"
   ]
  },
  {
   "cell_type": "code",
   "execution_count": 2,
   "metadata": {},
   "outputs": [],
   "source": [
    "import time                         # For Measuring Latency\n",
    "import pyaudio                      # For Real-Time Digital Audio Input\n",
    "import numpy as np                  # For Arrays\n",
    "import tensorflow as tf             #\n",
    "from tensorflow import keras        #\n",
    "import matplotlib.pyplot as plt     # For Plots"
   ]
  },
  {
   "cell_type": "code",
   "execution_count": 3,
   "metadata": {},
   "outputs": [],
   "source": [
    "# Define audio parameters\n",
    "FORMAT = pyaudio.paInt16\n",
    "CHANNELS = 1\n",
    "RATE = 44100\n",
    "CHUNK = 1024\n",
    "RECORD_SECONDS = 5"
   ]
  },
  {
   "cell_type": "code",
   "execution_count": 4,
   "metadata": {},
   "outputs": [],
   "source": [
    "# Initialize PyAudio\n",
    "audio = pyaudio.PyAudio()"
   ]
  },
  {
   "cell_type": "code",
   "execution_count": null,
   "metadata": {},
   "outputs": [],
   "source": [
    "# Open stream\n",
    "stream = audio.open(format=FORMAT, channels=CHANNELS,\n",
    "                    rate=RATE, input=True,\n",
    "                    frames_per_buffer=CHUNK)"
   ]
  },
  {
   "cell_type": "code",
   "execution_count": null,
   "metadata": {},
   "outputs": [],
   "source": [
    "# Load pre-trained TensorFlow model\n",
    "model = tf.keras.models.load_model('your_pretrained_model.h5')"
   ]
  },
  {
   "cell_type": "code",
   "execution_count": null,
   "metadata": {},
   "outputs": [],
   "source": [
    "# Function to preprocess audio data\n",
    "def preprocess_audio(data):\n",
    "    # Convert to numpy array and normalize\n",
    "    data = np.frombuffer(data, dtype=np.int16) / 32768.0\n",
    "    # Perform additional preprocessing if necessary (e.g., spectrogram conversion)\n",
    "    # Example: spectrogram = np.abs(np.fft.rfft(data))[:512]\n",
    "    return data"
   ]
  },
  {
   "cell_type": "code",
   "execution_count": null,
   "metadata": {},
   "outputs": [],
   "source": [
    "try:\n",
    "    print(\"Recording...\")\n",
    "    for i in range(0, int(RATE / CHUNK * RECORD_SECONDS)):\n",
    "        # Read audio data from stream\n",
    "        audio_data = stream.read(CHUNK)\n",
    "        # Preprocess audio data\n",
    "        processed_data = preprocess_audio(audio_data)\n",
    "        # Perform inference using the pre-trained model\n",
    "        predictions = model.predict(np.expand_dims(processed_data, axis=0))\n",
    "        # Process predictions as needed\n",
    "        # Example: print(predictions)\n",
    "except KeyboardInterrupt:\n",
    "    print(\"Recording stopped by user.\")\n",
    "finally:\n",
    "    # Stop stream and close PyAudio\n",
    "    stream.stop_stream()\n",
    "    stream.close()\n",
    "    audio.terminate()"
   ]
  },
  {
   "cell_type": "code",
   "execution_count": null,
   "metadata": {},
   "outputs": [],
   "source": [
    "input_data = 0\n",
    "output_data = 0\n",
    "\n",
    "# Record audio input\n",
    "input_data = input_stream.read(CHUNK)\n",
    "\n",
    "# Function to measure latency\n",
    "def measure_latency():\n",
    "    global input_data\n",
    "    global output_data\n",
    "\n",
    "    # Record start time\n",
    "    start_time = time.time()\n",
    "\n",
    "    # DSP System\n",
    "    output_data = rnn_digital_filter(input_data)\n",
    "    \n",
    "    # Calculate elapsed time\n",
    "    elapsed_time = time.time() - start_time\n",
    "    \n",
    "    # Calculate latency in milliseconds\n",
    "    latency_ms = elapsed_time * 1000\n",
    "    return latency_ms\n",
    "\n",
    "print(\"Latency of the IIR filter:\", latency, \"seconds\")\n",
    "\n",
    "# Play back recorded audio\n",
    "output_stream.write(output_data)"
   ]
  },
  {
   "cell_type": "code",
   "execution_count": null,
   "metadata": {},
   "outputs": [],
   "source": [
    "if __name__ == \"__main__\":\n",
    "    pass"
   ]
  }
 ],
 "metadata": {
  "kernelspec": {
   "display_name": "Python 3",
   "language": "python",
   "name": "python3"
  },
  "language_info": {
   "codemirror_mode": {
    "name": "ipython",
    "version": 3
   },
   "file_extension": ".py",
   "mimetype": "text/x-python",
   "name": "python",
   "nbconvert_exporter": "python",
   "pygments_lexer": "ipython3",
   "version": "3.11.8"
  }
 },
 "nbformat": 4,
 "nbformat_minor": 2
}
