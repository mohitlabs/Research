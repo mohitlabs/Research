{
 "cells": [
  {
   "cell_type": "code",
   "execution_count": 265,
   "metadata": {},
   "outputs": [],
   "source": [
    "import time\n",
    "import wave\n",
    "import pyaudio\n",
    "import numpy as np\n",
    "import matplotlib.pyplot as plt"
   ]
  },
  {
   "cell_type": "code",
   "execution_count": 266,
   "metadata": {},
   "outputs": [],
   "source": [
    "FILENAME = \"audio1.wav\""
   ]
  },
  {
   "cell_type": "code",
   "execution_count": 267,
   "metadata": {},
   "outputs": [],
   "source": [
    "def plot_waveform(file):\n",
    "    plt.title(\"Waveform of the audio\")\n",
    "    plt.ylabel(\"Amplitude\")\n",
    "    plt.xlabel(\"Time\")\n",
    "    signal = np.frombuffer(file.readframes(-1), np.int8)\n",
    "    plt.plot(signal, color=\"blue\")\n",
    "    plt.show()"
   ]
  },
  {
   "cell_type": "code",
   "execution_count": 268,
   "metadata": {},
   "outputs": [],
   "source": [
    "def play_audio(file):\n",
    "    CHUNK = 1024\n",
    "    \n",
    "    # Initialize PyAudio\n",
    "    audio = pyaudio.PyAudio()\n",
    "\n",
    "    # Open stream\n",
    "    stream = audio.open(format=audio.get_format_from_width(file.getsampwidth()),\n",
    "                        channels=file.getnchannels(),\n",
    "                        rate=file.getframerate(),\n",
    "                        output=True)\n",
    "    \n",
    "    data = file.readframes(CHUNK)\n",
    "    \n",
    "    while len(data) > 0:\n",
    "        stream.write(data)\n",
    "        data = file.readframes(CHUNK)\n",
    "    \n",
    "    stream.stop_stream()\n",
    "    stream.close()\n",
    "    \n",
    "    audio.terminate()"
   ]
  },
  {
   "cell_type": "code",
   "execution_count": 269,
   "metadata": {},
   "outputs": [],
   "source": [
    "# Function to measure latency\n",
    "def measure_latency(file):\n",
    "    # Record start time\n",
    "    start_time = time.time()\n",
    "\n",
    "    # DSP System\n",
    "    play_audio(file)\n",
    "    \n",
    "    # Calculate elapsed time\n",
    "    elapsed_time = time.time() - start_time\n",
    "    \n",
    "    # Calculate latency in milliseconds\n",
    "    latency_ms = elapsed_time * 1000\n",
    "    return latency_ms"
   ]
  },
  {
   "cell_type": "code",
   "execution_count": 270,
   "metadata": {},
   "outputs": [
    {
     "data": {
      "image/png": "[encoded data removed]",
      "text/plain": [
       "<Figure size 640x480 with 1 Axes>"
      ]
     },
     "metadata": {},
     "output_type": "display_data"
    },
    {
     "name": "stdout",
     "output_type": "stream",
     "text": [
      "Latency of the RNN Digital Filter: 172.7912425994873 milliseconds\n"
     ]
    }
   ],
   "source": [
    "if __name__ == \"__main__\":\n",
    "    # Open file\n",
    "    file = wave.open(FILENAME, \"rb\")\n",
    "    \n",
    "    if file.getnchannels() == 2:\n",
    "        print(\"Stereo Files not supported!, Please use Mono Files.\")\n",
    "        exit()\n",
    "    else:\n",
    "        plot_waveform(file)\n",
    "        print(\"Latency of the RNN Digital Filter:\", measure_latency(file), \"milliseconds\")"
   ]
  },
  {
   "cell_type": "code",
   "execution_count": 271,
   "metadata": {},
   "outputs": [],
   "source": [
    "#plt.figure(figsize=(14, 5))"
   ]
  }
 ],
 "metadata": {
  "kernelspec": {
   "display_name": "Python 3",
   "language": "python",
   "name": "python3"
  },
  "language_info": {
   "codemirror_mode": {
    "name": "ipython",
    "version": 3
   },
   "file_extension": ".py",
   "mimetype": "text/x-python",
   "name": "python",
   "nbconvert_exporter": "python",
   "pygments_lexer": "ipython3",
   "version": "3.11.8"
  }
 },
 "nbformat": 4,
 "nbformat_minor": 2
}
